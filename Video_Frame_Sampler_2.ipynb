{
  "nbformat": 4,
  "nbformat_minor": 0,
  "metadata": {
    "colab": {
      "provenance": [],
      "gpuType": "T4",
      "authorship_tag": "ABX9TyM2IVlDBYKmSSTusaaqPbL7",
      "include_colab_link": true
    },
    "kernelspec": {
      "name": "python3",
      "display_name": "Python 3"
    },
    "language_info": {
      "name": "python"
    },
    "accelerator": "GPU"
  },
  "cells": [
    {
      "cell_type": "markdown",
      "metadata": {
        "id": "view-in-github",
        "colab_type": "text"
      },
      "source": [
        "<a href=\"https://colab.research.google.com/github/WilliamShengYangHuang/RC18_GenAI/blob/main/Video_Frame_Sampler_2.ipynb\" target=\"_parent\"><img src=\"https://colab.research.google.com/assets/colab-badge.svg\" alt=\"Open In Colab\"/></a>"
      ]
    },
    {
      "cell_type": "markdown",
      "source": [
        "## Load Necessary Packages"
      ],
      "metadata": {
        "id": "4PK-w6ZrG9Vf"
      }
    },
    {
      "cell_type": "code",
      "source": [
        "import cv2\n",
        "import os\n",
        "import numpy as np\n",
        "import matplotlib.pyplot as plt\n",
        "from PIL import Image\n",
        "from google.colab import drive\n",
        "\n",
        "drive.mount('/content/drive', force_remount=True)"
      ],
      "metadata": {
        "colab": {
          "base_uri": "https://localhost:8080/"
        },
        "id": "jjPbHc840Q-s",
        "outputId": "2a72dfe4-7917-405b-ff1f-d29a0f2f1b6f"
      },
      "execution_count": null,
      "outputs": [
        {
          "output_type": "stream",
          "name": "stdout",
          "text": [
            "Mounted at /content/drive\n"
          ]
        }
      ]
    },
    {
      "cell_type": "markdown",
      "source": [
        "## Extract Frames"
      ],
      "metadata": {
        "id": "IwfEX5ioGyS-"
      }
    },
    {
      "cell_type": "code",
      "execution_count": null,
      "metadata": {
        "id": "jwJr75yZyiq-"
      },
      "outputs": [],
      "source": [
        "# Set the input video path (replace 'your_video.mp4' with the actual file path)\n",
        "video_path = '/content/drive/MyDrive/Landscape/StyleGAN2_Interpolation.mp4'\n",
        "\n",
        "# Create the output folder path in Google Drive\n",
        "output_folder = '/content/drive/MyDrive/landscape_frame_captures' #@param{type:'string'}\n",
        "\n",
        "# Check if the folder exists; if not, create it\n",
        "if not os.path.exists(output_folder):\n",
        "    os.makedirs(output_folder)\n",
        "    print(f\"Folder created: {output_folder}\")\n",
        "else:\n",
        "    print(f\"Folder already exists: {output_folder}\")\n",
        "\n",
        "# Define the number of frames to extract per second\n",
        "frames_per_second = 2  #@param{type:'slider', min:1, max:30, step:1}\n",
        "\n",
        "# Open the video file\n",
        "cap = cv2.VideoCapture(video_path)\n",
        "\n",
        "# Get the video frame rate (frames per second)\n",
        "fps = int(cap.get(cv2.CAP_PROP_FPS))\n",
        "frame_interval = int(fps / frames_per_second) if fps > 0 else 1  # Calculate the interval between frames to save\n",
        "\n",
        "# Initialise frame counters\n",
        "frame_count = 0\n",
        "saved_frame_count = 0\n",
        "\n",
        "# Loop through the video frames\n",
        "while cap.isOpened():\n",
        "    ret, frame = cap.read()  # Read the next frame\n",
        "    if not ret:\n",
        "        break  # Exit the loop if no frame is read (end of video)\n",
        "\n",
        "    # Check if the current frame is one to save\n",
        "    if frame_count % frame_interval == 0:\n",
        "        output_path = os.path.join(output_folder, f'frame_{saved_frame_count:04d}.png')  # Set the output file name\n",
        "        cv2.imwrite(output_path, frame)  # Save the frame as an image file\n",
        "        saved_frame_count += 1  # Increment the count of saved frames\n",
        "\n",
        "    frame_count += 1  # Increment the total frame count\n",
        "\n",
        "# Release the video capture object\n",
        "cap.release()\n",
        "\n",
        "# Print the total number of frames saved\n",
        "print(f'Saved {saved_frame_count} images to the folder \"{output_folder}\"')\n",
        "\n"
      ]
    },
    {
      "cell_type": "markdown",
      "source": [
        "## Plot Frame Grid"
      ],
      "metadata": {
        "id": "wc7yWjvGG3_5"
      }
    },
    {
      "cell_type": "code",
      "source": [
        "# Load all image files\n",
        "image_files = sorted([os.path.join(output_folder, img) for img in os.listdir(output_folder) if img.endswith('.png')])\n",
        "\n",
        "# Set the size of the image grid\n",
        "rows= 8 #@param{type:'integer'}\n",
        "cols = 15 #@param{type:'integer'}\n",
        "num_images = rows * cols\n",
        "\n",
        "# Ensure there are enough images to fill the grid\n",
        "if len(image_files) < num_images:\n",
        "    raise ValueError(f\"At least {num_images} images are required to form a {rows}x{cols} grid, but only {len(image_files)} images were found.\")\n",
        "\n",
        "# Read the first rows * cols images and resize them\n",
        "images = [cv2.imread(img) for img in image_files[:num_images]]\n",
        "img_height, img_width, _ = images[0].shape\n",
        "\n",
        "# Create a blank canvas with dimensions (rows * img_height) x (cols * img_width)\n",
        "canvas = Image.new('RGB', (cols * img_width, rows * img_height))\n",
        "\n",
        "# Paste each image onto the canvas\n",
        "for i in range(rows):\n",
        "    for j in range(cols):\n",
        "        img = Image.fromarray(cv2.cvtColor(images[i * cols + j], cv2.COLOR_BGR2RGB))\n",
        "        canvas.paste(img, (j * img_width, i * img_height))\n",
        "\n",
        "# Set DPI and save the resulting image\n",
        "output_image_path = '/content/drive/MyDrive/frame_matrix_output_3.png' #@param{type:'string'}\n",
        "canvas.save(output_image_path, dpi=(200, 200))\n",
        "print(f'The image grid has been saved to {output_image_path}')\n",
        "\n",
        "# Display the image grid\n",
        "plt.figure(figsize=(15, 8))\n",
        "plt.imshow(canvas)\n",
        "plt.axis('off')\n",
        "plt.show()\n"
      ],
      "metadata": {
        "id": "FsgIBAZ2EgCr"
      },
      "execution_count": null,
      "outputs": []
    }
  ]
}